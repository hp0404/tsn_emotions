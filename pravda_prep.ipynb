{
 "cells": [
  {
   "cell_type": "code",
   "execution_count": 1,
   "metadata": {},
   "outputs": [],
   "source": [
    "import numpy as np\n",
    "import pandas as pd\n",
    "\n",
    "import re\n",
    "from itertools import chain\n",
    "from collections import Counter"
   ]
  },
  {
   "cell_type": "code",
   "execution_count": 2,
   "metadata": {},
   "outputs": [],
   "source": [
    "_PUNCTUATION = \"!\\\"#$%&'()*+,-./:;<=>?@[\\\\]^_`{|}~\"\n",
    "_PUNC_TABLE = str.maketrans(\"\", \"\", _PUNCTUATION)\n",
    "_WORD_REGEX = re.compile(r\"(?u)\\b\\w\\w+\\b\")  # sklearn default\n",
    "\n",
    "with open('dictionaries/ukrainian-stopwords.txt', encoding=\"utf-8\") as f:\n",
    "    _STOP_WORDS = f.read().split(sep='\\n')\n",
    "    \n",
    "    \n",
    "def strip_punctuation(line):\n",
    "    \"\"\"Remove punctuation from a string\"\"\"\n",
    "    return line.translate(_PUNC_TABLE).strip()\n",
    "\n",
    "# def strip_inflection(line):\n",
    "#     return [_LEM_DICT.get(w, w) for w in line]\n",
    "\n",
    "    \n",
    "def remove_stop_words(words):\n",
    "    \"\"\"Remove stop words from a list of word strings\"\"\"\n",
    "    return [w for w in words if w not in _STOP_WORDS]\n",
    "\n",
    "\n",
    "def tokenize_words(line, lowercase=True, filter_stopwords=True):\n",
    "    \"\"\"\n",
    "    Split a string into individual lower-case words, optionally removing\n",
    "    punctuation and stop-words in the process\n",
    "    \"\"\"\n",
    "    words = _WORD_REGEX.findall(line.lower() if lowercase else line)\n",
    "    return remove_stop_words(words) if filter_stopwords else words"
   ]
  },
  {
   "cell_type": "code",
   "execution_count": 3,
   "metadata": {},
   "outputs": [],
   "source": [
    "df = pd.read_csv(\"./data/pravda_november.csv\")\n",
    "\n",
    "tone_dict = pd.read_csv('dictionaries/tone-dict-uk.tsv', sep='\\t', names=['word', 'tone'])\n",
    "lemmatiz_dict = pd.read_csv('dictionaries/lemmatization-uk.txt', sep=\"\\t\", names = ['to', 'from'])"
   ]
  },
  {
   "cell_type": "code",
   "execution_count": 4,
   "metadata": {},
   "outputs": [],
   "source": [
    "# lemmas\n",
    "lemmatiz_dict.index = lemmatiz_dict['from']\n",
    "lemmatiz_dict = lemmatiz_dict.drop('from', axis = 1).to_dict() \n",
    "lemmatiz_dict = lemmatiz_dict['to']\n",
    "\n",
    "# tones\n",
    "tone_dict.word = tone_dict.word.str.lower()\n",
    "tone_dict.tone = (tone_dict.tone > 0).astype(int)\n",
    "tone_dict.loc[tone_dict.tone == 0, 'tone'] = -1\n",
    "tone_dict = dict(tone_dict.values)"
   ]
  },
  {
   "cell_type": "code",
   "execution_count": 5,
   "metadata": {},
   "outputs": [],
   "source": [
    "df[\"lemmatized\"] = (df[\"title\"]\n",
    "                     .apply(lambda s: strip_punctuation(s)).str.split()\n",
    "                     .apply(lambda s: [lemmatiz_dict.get(w,w) for w in s])\n",
    "                     .apply(lambda s: tokenize_words(\" \".join(s)))\n",
    "                    )"
   ]
  },
  {
   "cell_type": "code",
   "execution_count": 6,
   "metadata": {},
   "outputs": [
    {
     "data": {
      "text/html": [
       "<div>\n",
       "<style scoped>\n",
       "    .dataframe tbody tr th:only-of-type {\n",
       "        vertical-align: middle;\n",
       "    }\n",
       "\n",
       "    .dataframe tbody tr th {\n",
       "        vertical-align: top;\n",
       "    }\n",
       "\n",
       "    .dataframe thead th {\n",
       "        text-align: right;\n",
       "    }\n",
       "</style>\n",
       "<table border=\"1\" class=\"dataframe\">\n",
       "  <thead>\n",
       "    <tr style=\"text-align: right;\">\n",
       "      <th></th>\n",
       "      <th>title</th>\n",
       "      <th>subtitle</th>\n",
       "      <th>date</th>\n",
       "      <th>link</th>\n",
       "      <th>lemmatized</th>\n",
       "    </tr>\n",
       "  </thead>\n",
       "  <tbody>\n",
       "    <tr>\n",
       "      <td>0</td>\n",
       "      <td>В СБУ розповіли, чого бракує в розслідуванні в...</td>\n",
       "      <td>У правоохоронців немає достатніх доказів для п...</td>\n",
       "      <td>2019/11/1 23:44</td>\n",
       "      <td>https://www.pravda.com.ua/news/2019/11/1/7230775/</td>\n",
       "      <td>[сбу, розповісти, бракувати, розслідування, вб...</td>\n",
       "    </tr>\n",
       "    <tr>\n",
       "      <td>1</td>\n",
       "      <td>Економічні новини: закон про фінмоніторинг, ре...</td>\n",
       "      <td>Про законопроєкт фінмоніторингу. Верховна Рада...</td>\n",
       "      <td>2019/11/1 23:03</td>\n",
       "      <td>https://www.epravda.com.ua/news/2019/11/1/653247/</td>\n",
       "      <td>[економічні, новина, закон, фінмоніторинг, рей...</td>\n",
       "    </tr>\n",
       "    <tr>\n",
       "      <td>2</td>\n",
       "      <td>Через смерть підлітка відсторонили керівника п...</td>\n",
       "      <td>Розслідуванням смерті 14-річного хлопця, знайд...</td>\n",
       "      <td>2019/11/1 22:41</td>\n",
       "      <td>https://www.pravda.com.ua/news/2019/11/1/7230773/</td>\n",
       "      <td>[смерть, підліток, відсторонили, керівник, пол...</td>\n",
       "    </tr>\n",
       "    <tr>\n",
       "      <td>3</td>\n",
       "      <td>З листопада у наземному транспорті можна плати...</td>\n",
       "      <td>Сплатити за проїзд за допомогою банківської ка...</td>\n",
       "      <td>2019/11/1 22:05</td>\n",
       "      <td>https://www.epravda.com.ua/news/2019/11/1/653254/</td>\n",
       "      <td>[листопад, наземний, транспорт, платити, смарт...</td>\n",
       "    </tr>\n",
       "    <tr>\n",
       "      <td>4</td>\n",
       "      <td>ГПУ почала розслідувати погрози Федини Зеленсь...</td>\n",
       "      <td>Генеральна прокуратура відкрила кримінальне пр...</td>\n",
       "      <td>2019/11/1 21:35</td>\n",
       "      <td>https://www.pravda.com.ua/news/2019/11/1/7230730/</td>\n",
       "      <td>[гпу, почати, розслідувати, погроза, федини, з...</td>\n",
       "    </tr>\n",
       "  </tbody>\n",
       "</table>\n",
       "</div>"
      ],
      "text/plain": [
       "                                               title  \\\n",
       "0  В СБУ розповіли, чого бракує в розслідуванні в...   \n",
       "1  Економічні новини: закон про фінмоніторинг, ре...   \n",
       "2  Через смерть підлітка відсторонили керівника п...   \n",
       "3  З листопада у наземному транспорті можна плати...   \n",
       "4  ГПУ почала розслідувати погрози Федини Зеленсь...   \n",
       "\n",
       "                                            subtitle             date  \\\n",
       "0  У правоохоронців немає достатніх доказів для п...  2019/11/1 23:44   \n",
       "1  Про законопроєкт фінмоніторингу. Верховна Рада...  2019/11/1 23:03   \n",
       "2  Розслідуванням смерті 14-річного хлопця, знайд...  2019/11/1 22:41   \n",
       "3  Сплатити за проїзд за допомогою банківської ка...  2019/11/1 22:05   \n",
       "4  Генеральна прокуратура відкрила кримінальне пр...  2019/11/1 21:35   \n",
       "\n",
       "                                                link  \\\n",
       "0  https://www.pravda.com.ua/news/2019/11/1/7230775/   \n",
       "1  https://www.epravda.com.ua/news/2019/11/1/653247/   \n",
       "2  https://www.pravda.com.ua/news/2019/11/1/7230773/   \n",
       "3  https://www.epravda.com.ua/news/2019/11/1/653254/   \n",
       "4  https://www.pravda.com.ua/news/2019/11/1/7230730/   \n",
       "\n",
       "                                          lemmatized  \n",
       "0  [сбу, розповісти, бракувати, розслідування, вб...  \n",
       "1  [економічні, новина, закон, фінмоніторинг, рей...  \n",
       "2  [смерть, підліток, відсторонили, керівник, пол...  \n",
       "3  [листопад, наземний, транспорт, платити, смарт...  \n",
       "4  [гпу, почати, розслідувати, погроза, федини, з...  "
      ]
     },
     "execution_count": 6,
     "metadata": {},
     "output_type": "execute_result"
    }
   ],
   "source": [
    "df.head()"
   ]
  },
  {
   "cell_type": "code",
   "execution_count": 7,
   "metadata": {},
   "outputs": [],
   "source": [
    "df[\"tone_words\"] = df[\"lemmatized\"].apply(lambda s: [w for w in s if w in tone_dict])"
   ]
  },
  {
   "cell_type": "code",
   "execution_count": 8,
   "metadata": {},
   "outputs": [
    {
     "data": {
      "text/html": [
       "<div>\n",
       "<style scoped>\n",
       "    .dataframe tbody tr th:only-of-type {\n",
       "        vertical-align: middle;\n",
       "    }\n",
       "\n",
       "    .dataframe tbody tr th {\n",
       "        vertical-align: top;\n",
       "    }\n",
       "\n",
       "    .dataframe thead th {\n",
       "        text-align: right;\n",
       "    }\n",
       "</style>\n",
       "<table border=\"1\" class=\"dataframe\">\n",
       "  <thead>\n",
       "    <tr style=\"text-align: right;\">\n",
       "      <th></th>\n",
       "      <th>title</th>\n",
       "      <th>subtitle</th>\n",
       "      <th>date</th>\n",
       "      <th>link</th>\n",
       "      <th>lemmatized</th>\n",
       "      <th>tone_words</th>\n",
       "    </tr>\n",
       "  </thead>\n",
       "  <tbody>\n",
       "    <tr>\n",
       "      <td>0</td>\n",
       "      <td>В СБУ розповіли, чого бракує в розслідуванні в...</td>\n",
       "      <td>У правоохоронців немає достатніх доказів для п...</td>\n",
       "      <td>2019/11/1 23:44</td>\n",
       "      <td>https://www.pravda.com.ua/news/2019/11/1/7230775/</td>\n",
       "      <td>[сбу, розповісти, бракувати, розслідування, вб...</td>\n",
       "      <td>[бракувати, вбивство]</td>\n",
       "    </tr>\n",
       "    <tr>\n",
       "      <td>1</td>\n",
       "      <td>Економічні новини: закон про фінмоніторинг, ре...</td>\n",
       "      <td>Про законопроєкт фінмоніторингу. Верховна Рада...</td>\n",
       "      <td>2019/11/1 23:03</td>\n",
       "      <td>https://www.epravda.com.ua/news/2019/11/1/653247/</td>\n",
       "      <td>[економічні, новина, закон, фінмоніторинг, рей...</td>\n",
       "      <td>[]</td>\n",
       "    </tr>\n",
       "    <tr>\n",
       "      <td>2</td>\n",
       "      <td>Через смерть підлітка відсторонили керівника п...</td>\n",
       "      <td>Розслідуванням смерті 14-річного хлопця, знайд...</td>\n",
       "      <td>2019/11/1 22:41</td>\n",
       "      <td>https://www.pravda.com.ua/news/2019/11/1/7230773/</td>\n",
       "      <td>[смерть, підліток, відсторонили, керівник, пол...</td>\n",
       "      <td>[смерть]</td>\n",
       "    </tr>\n",
       "    <tr>\n",
       "      <td>3</td>\n",
       "      <td>З листопада у наземному транспорті можна плати...</td>\n",
       "      <td>Сплатити за проїзд за допомогою банківської ка...</td>\n",
       "      <td>2019/11/1 22:05</td>\n",
       "      <td>https://www.epravda.com.ua/news/2019/11/1/653254/</td>\n",
       "      <td>[листопад, наземний, транспорт, платити, смарт...</td>\n",
       "      <td>[]</td>\n",
       "    </tr>\n",
       "    <tr>\n",
       "      <td>4</td>\n",
       "      <td>ГПУ почала розслідувати погрози Федини Зеленсь...</td>\n",
       "      <td>Генеральна прокуратура відкрила кримінальне пр...</td>\n",
       "      <td>2019/11/1 21:35</td>\n",
       "      <td>https://www.pravda.com.ua/news/2019/11/1/7230730/</td>\n",
       "      <td>[гпу, почати, розслідувати, погроза, федини, з...</td>\n",
       "      <td>[]</td>\n",
       "    </tr>\n",
       "  </tbody>\n",
       "</table>\n",
       "</div>"
      ],
      "text/plain": [
       "                                               title  \\\n",
       "0  В СБУ розповіли, чого бракує в розслідуванні в...   \n",
       "1  Економічні новини: закон про фінмоніторинг, ре...   \n",
       "2  Через смерть підлітка відсторонили керівника п...   \n",
       "3  З листопада у наземному транспорті можна плати...   \n",
       "4  ГПУ почала розслідувати погрози Федини Зеленсь...   \n",
       "\n",
       "                                            subtitle             date  \\\n",
       "0  У правоохоронців немає достатніх доказів для п...  2019/11/1 23:44   \n",
       "1  Про законопроєкт фінмоніторингу. Верховна Рада...  2019/11/1 23:03   \n",
       "2  Розслідуванням смерті 14-річного хлопця, знайд...  2019/11/1 22:41   \n",
       "3  Сплатити за проїзд за допомогою банківської ка...  2019/11/1 22:05   \n",
       "4  Генеральна прокуратура відкрила кримінальне пр...  2019/11/1 21:35   \n",
       "\n",
       "                                                link  \\\n",
       "0  https://www.pravda.com.ua/news/2019/11/1/7230775/   \n",
       "1  https://www.epravda.com.ua/news/2019/11/1/653247/   \n",
       "2  https://www.pravda.com.ua/news/2019/11/1/7230773/   \n",
       "3  https://www.epravda.com.ua/news/2019/11/1/653254/   \n",
       "4  https://www.pravda.com.ua/news/2019/11/1/7230730/   \n",
       "\n",
       "                                          lemmatized             tone_words  \n",
       "0  [сбу, розповісти, бракувати, розслідування, вб...  [бракувати, вбивство]  \n",
       "1  [економічні, новина, закон, фінмоніторинг, рей...                     []  \n",
       "2  [смерть, підліток, відсторонили, керівник, пол...               [смерть]  \n",
       "3  [листопад, наземний, транспорт, платити, смарт...                     []  \n",
       "4  [гпу, почати, розслідувати, погроза, федини, з...                     []  "
      ]
     },
     "execution_count": 8,
     "metadata": {},
     "output_type": "execute_result"
    }
   ],
   "source": [
    "df.head()"
   ]
  },
  {
   "cell_type": "code",
   "execution_count": 9,
   "metadata": {},
   "outputs": [
    {
     "name": "stdout",
     "output_type": "stream",
     "text": [
      "Number of rows with tone is 871, without tone is 1319\n"
     ]
    }
   ],
   "source": [
    "print(f'Number of rows with tone is {(df.tone_words.apply(len) > 0).value_counts()[True]}, '\n",
    "      f'without tone is {df.tone_words.apply(len).value_counts()[0]}'\n",
    "     )"
   ]
  },
  {
   "cell_type": "code",
   "execution_count": 10,
   "metadata": {},
   "outputs": [],
   "source": [
    "df[\"negative_tone\"] = df[\"tone_words\"].apply(lambda s: any(tone_dict[w] == -1 for w in s))"
   ]
  },
  {
   "cell_type": "code",
   "execution_count": 11,
   "metadata": {},
   "outputs": [
    {
     "data": {
      "text/plain": [
       "28.5"
      ]
     },
     "execution_count": 11,
     "metadata": {},
     "output_type": "execute_result"
    }
   ],
   "source": [
    "round((sum(df.negative_tone) / len(df)) * 100, ndigits=1)"
   ]
  },
  {
   "cell_type": "code",
   "execution_count": 12,
   "metadata": {},
   "outputs": [
    {
     "name": "stdout",
     "output_type": "stream",
     "text": [
      "Total words 14605\n"
     ]
    },
    {
     "data": {
      "text/plain": [
       "[('україна', 209),\n",
       " ('зеленський', 92),\n",
       " ('київ', 83),\n",
       " ('справа', 82),\n",
       " ('сша', 78),\n",
       " ('рф', 71),\n",
       " ('суд', 67),\n",
       " ('народ', 65),\n",
       " ('новий', 62),\n",
       " ('донбас', 59)]"
      ]
     },
     "execution_count": 12,
     "metadata": {},
     "output_type": "execute_result"
    }
   ],
   "source": [
    "common_all = Counter(chain(*df[\"lemmatized\"]))\n",
    "print('Total words', sum(common_all.values()))\n",
    "common_all.most_common(10)"
   ]
  },
  {
   "cell_type": "code",
   "execution_count": 13,
   "metadata": {},
   "outputs": [],
   "source": [
    "df[\"tone_words_neg\"] = df[\"tone_words\"].apply(lambda s: [w for w in s if tone_dict[w] < 0])"
   ]
  },
  {
   "cell_type": "code",
   "execution_count": 14,
   "metadata": {},
   "outputs": [
    {
     "data": {
      "text/plain": [
       "[('затримати', 34),\n",
       " ('підозра', 24),\n",
       " ('загинути', 22),\n",
       " ('обшук', 18),\n",
       " ('вибух', 17),\n",
       " ('арешт', 16),\n",
       " ('вбивство', 15),\n",
       " ('вимагати', 15),\n",
       " ('порушення', 14),\n",
       " ('стріляти', 13)]"
      ]
     },
     "execution_count": 14,
     "metadata": {},
     "output_type": "execute_result"
    }
   ],
   "source": [
    "neg_counter = Counter(chain(*df.tone_words_neg))\n",
    "neg_counter.most_common(10)"
   ]
  },
  {
   "cell_type": "code",
   "execution_count": null,
   "metadata": {},
   "outputs": [],
   "source": []
  }
 ],
 "metadata": {
  "kernelspec": {
   "display_name": "Python 3",
   "language": "python",
   "name": "python3"
  },
  "language_info": {
   "codemirror_mode": {
    "name": "ipython",
    "version": 3
   },
   "file_extension": ".py",
   "mimetype": "text/x-python",
   "name": "python",
   "nbconvert_exporter": "python",
   "pygments_lexer": "ipython3",
   "version": "3.7.4"
  }
 },
 "nbformat": 4,
 "nbformat_minor": 4
}
