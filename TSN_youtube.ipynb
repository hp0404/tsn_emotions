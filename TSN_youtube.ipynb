{
 "cells": [
  {
   "cell_type": "markdown",
   "metadata": {},
   "source": [
    "# Youtube TSN video title analysis"
   ]
  },
  {
   "cell_type": "code",
   "execution_count": 1,
   "metadata": {},
   "outputs": [],
   "source": [
    "from bs4 import BeautifulSoup\n",
    "import pandas as pd\n",
    "import re\n",
    "import numpy as np\n",
    "import requests\n",
    "from collections import Counter\n",
    "from multiprocessing import Pool\n",
    "from dateparser import parse as dtparse\n",
    "from itertools import chain\n",
    "\n",
    "%matplotlib inline"
   ]
  },
  {
   "cell_type": "code",
   "execution_count": 2,
   "metadata": {},
   "outputs": [
    {
     "name": "stdout",
     "output_type": "stream",
     "text": [
      "processed_data.jl.gz tsn_ready.csv\r\n",
      "tsn.txt              tsn_scraped_data.csv\r\n"
     ]
    }
   ],
   "source": [
    "!ls data"
   ]
  },
  {
   "cell_type": "markdown",
   "metadata": {},
   "source": [
    "## Get links to all playlists"
   ]
  },
  {
   "cell_type": "code",
   "execution_count": null,
   "metadata": {},
   "outputs": [],
   "source": [
    "# tsn.txt = downloaded html data\n",
    "\n",
    "with open(\"data/tsn.txt\") as fp:\n",
    "    soup = BeautifulSoup(fp)"
   ]
  },
  {
   "cell_type": "code",
   "execution_count": null,
   "metadata": {},
   "outputs": [],
   "source": [
    "vec = soup.find_all('a', {'id':'video-title'})"
   ]
  },
  {
   "cell_type": "code",
   "execution_count": null,
   "metadata": {},
   "outputs": [],
   "source": [
    "my_href = []\n",
    "my_text = []\n",
    "\n",
    "for i in vec:\n",
    "    if i.get('href'):\n",
    "        #if i.text.startswith('ТСН.19:30'):\n",
    "        href = my_href.append('https://www.youtube.com' + i.get('href'))\n",
    "        text = my_text.append(i.text)"
   ]
  },
  {
   "cell_type": "code",
   "execution_count": null,
   "metadata": {},
   "outputs": [],
   "source": [
    "url = my_href[0]\n",
    "r = requests.get(url)"
   ]
  },
  {
   "cell_type": "code",
   "execution_count": null,
   "metadata": {},
   "outputs": [],
   "source": [
    "soup = BeautifulSoup(r.text)\n",
    "video_list = soup.find_all('li', {'class':'vve-check'})"
   ]
  },
  {
   "cell_type": "code",
   "execution_count": null,
   "metadata": {},
   "outputs": [],
   "source": [
    "video_list[0].get('data-video-title')"
   ]
  },
  {
   "cell_type": "markdown",
   "metadata": {},
   "source": [
    "## Create DF"
   ]
  },
  {
   "cell_type": "code",
   "execution_count": null,
   "metadata": {},
   "outputs": [],
   "source": [
    "df = pd.DataFrame(columns = \n",
    "                  ['list_link', 'list_title', 'video_link', 'video_title'])"
   ]
  },
  {
   "cell_type": "code",
   "execution_count": null,
   "metadata": {},
   "outputs": [],
   "source": [
    "for i in range(len(my_href)):\n",
    "    soup = BeautifulSoup(requests.get(my_href[i]).text)\n",
    "    video_list = soup.find_all('li', {'class':'vve-check'})\n",
    "    \n",
    "    for video in video_list:\n",
    "        df = df.append({'list_link' : my_href[i],\n",
    "                        'list_title': my_text[i],\n",
    "                        'video_link': ('https://www.youtube.com' + video.a.get('href')), \n",
    "                        'video_title' : video.get('data-video-title')}, \n",
    "                        ignore_index=True)\n"
   ]
  },
  {
   "cell_type": "code",
   "execution_count": null,
   "metadata": {},
   "outputs": [],
   "source": [
    "len(df)"
   ]
  },
  {
   "cell_type": "code",
   "execution_count": null,
   "metadata": {},
   "outputs": [],
   "source": [
    "# get only needed programs\n",
    "\n",
    "boolvec = df['list_title'].str.contains('ТСН.Ранок|ТСН.12:00|ТСН.16:45|ТСН.19:30|ТСН.Ніч|ТСН.Тиждень', regex=True)\n",
    "df = df[boolvec].reset_index(drop=True)"
   ]
  },
  {
   "cell_type": "code",
   "execution_count": null,
   "metadata": {},
   "outputs": [],
   "source": [
    "# split variable list_title\n",
    "\n",
    "new = df['list_title'].str.split(\" за \", n = 1, expand = True) \n",
    "df['program_name'] = new[0]\n",
    "df['date'] = new[1]"
   ]
  },
  {
   "cell_type": "code",
   "execution_count": null,
   "metadata": {},
   "outputs": [],
   "source": [
    "# variable to filter full video\n",
    "\n",
    "boolvec = df['video_title'].str.startswith('Випуск ТСН')\n",
    "df['is_full_video'] = boolvec"
   ]
  },
  {
   "cell_type": "code",
   "execution_count": null,
   "metadata": {},
   "outputs": [],
   "source": [
    "df.head(1)"
   ]
  },
  {
   "cell_type": "code",
   "execution_count": null,
   "metadata": {},
   "outputs": [],
   "source": [
    "#df.to_csv('data/tsn_scraped_data.csv')"
   ]
  },
  {
   "cell_type": "markdown",
   "metadata": {},
   "source": [
    "## Data cleaning"
   ]
  },
  {
   "cell_type": "code",
   "execution_count": null,
   "metadata": {},
   "outputs": [],
   "source": [
    "df = pd.read_csv('data/tsn_scraped_data.csv', index_col=0)\n",
    "df = df[df.is_full_video == False].reset_index(drop=True)\n",
    "df = df.drop(['is_full_video'], axis = 1)"
   ]
  },
  {
   "cell_type": "code",
   "execution_count": null,
   "metadata": {},
   "outputs": [],
   "source": [
    "df.head()"
   ]
  },
  {
   "cell_type": "code",
   "execution_count": null,
   "metadata": {},
   "outputs": [],
   "source": [
    "len(df)"
   ]
  },
  {
   "cell_type": "markdown",
   "metadata": {},
   "source": [
    "### Lemmatization"
   ]
  },
  {
   "cell_type": "code",
   "execution_count": null,
   "metadata": {},
   "outputs": [],
   "source": [
    "df['video_title_old'] = df['video_title']\n",
    "\n",
    "df.video_title = (df.video_title\n",
    "                  .str.lower()    # lowercase\n",
    "                  .str.replace(r'[^\\w\\s!\\']', ' ')    # remove punctuations\n",
    "                  .str.replace(r' +', ' ')    # remove extra spaces  \n",
    "                  .str.strip() # remove extra spaces from the begining and at the end of string\n",
    "                 )"
   ]
  },
  {
   "cell_type": "code",
   "execution_count": null,
   "metadata": {
    "code_folding": [
     9
    ]
   },
   "outputs": [],
   "source": [
    "# load lemmatizator\n",
    "\n",
    "lemmatiz_dict = pd.read_csv('dictionaries/lemmatization-uk.txt', sep=\"\\t\", names = ['to', 'from'])\n",
    "lemmatiz_dict.index = lemmatiz_dict['from']\n",
    "lemmatiz_dict = lemmatiz_dict.drop('from', axis = 1).to_dict() \n",
    "lemmatiz_dict = lemmatiz_dict['to']\n",
    "\n",
    "# add more words\n",
    "\n",
    "lemmatiz_dict.update({\n",
    "    'підозрюваного': 'підозрюваний',\n",
    "    'підозрювану': 'підозрюваний',\n",
    "    'підозрювана': 'підозрюваний',\n",
    "    'підозрюваному': 'підозрюваний',\n",
    "    'підозрюваній': 'підозрюваний',\n",
    "    'києва': 'київ',\n",
    "    'києві': 'київ',\n",
    "    'києвом': 'київ',\n",
    "    'москві': 'москва',\n",
    "    'москву': 'москва',\n",
    "    'москвою': 'москва',\n",
    "    'потужний': 'потужно',\n",
    "    'звільнити': 'звільняти',\n",
    "    'обстріляли': 'обстрілювати',\n",
    "    'порошенка': 'порошенко',\n",
    "    'порошенку': 'порошенко',\n",
    "    'зеленського': 'зеленський',\n",
    "    'зеленському': 'зеленський',\n",
    "    'ведучу': 'ведуча',\n",
    "    'ведучої': 'ведуча',\n",
    "    'ведучій': 'ведуча',\n",
    "    'ведучого': 'ведучий',\n",
    "    'ведучому': 'ведучий',\n",
    "    'україни' : 'україна',\n",
    "    'україною' : 'україна',\n",
    "    'україні' : 'україна',\n",
    "    'україну' : 'україна',\n",
    "    'українська': 'український',\n",
    "    'українка': 'українець/нка',\n",
    "    'українку': 'українець/нка',\n",
    "    'українкою': 'українець/нка',\n",
    "    'українки': 'українець/нка',\n",
    "    'українець': 'українець/нка',\n",
    "    'українця': 'українець/нка',\n",
    "    'українцю': 'українець/нка',\n",
    "    'українцям': 'українець/нка',\n",
    "    'київщині': 'київ',\n",
    "    'київщини': 'київ',\n",
    "    'києва': 'київ',\n",
    "    'києві': 'київ',\n",
    "    'києву': 'київ',\n",
    "    'львові': 'львів',\n",
    "    'львова': 'львів',\n",
    "    'львовом': 'львів',\n",
    "    'львівщині': 'львів',\n",
    "    'львівщину': 'львів',\n",
    "    'львівщиною': 'львів',\n",
    "    'росії': 'росія',\n",
    "    'росію': 'росія',\n",
    "    'росією': 'росія',\n",
    "    'одещині': 'одеса',\n",
    "    'одещиною': 'одеса',\n",
    "    'одещини': 'одеса',\n",
    "    'одесі': 'одеса',\n",
    "    'одесою': 'одеса',\n",
    "    'одеси': 'одеса',\n",
    "    'запоріжжі': 'запоріжжя',\n",
    "    'харкові': 'харків',\n",
    "    'харкову': 'харків',\n",
    "    'харковом': 'харків',\n",
    "    'бездіяльності' : 'бездіяльність',\n",
    "    'бездіяльності' : 'бездіяльність',\n",
    "    'бездіяльності' : 'бездіяльність',\n",
    "    'осліпла' : 'осліп',\n",
    "    'осліпли' : 'осліп',\n",
    "    'осліплена' : 'осліп',\n",
    "    'осліплений' : 'осліп',\n",
    "    'нелегальна': 'нелегально',\n",
    "    'нелегальний': 'нелегально',\n",
    "    'нелегальні': 'нелегально',\n",
    "    'гармату': 'гармата',\n",
    "    'гармати': 'гармата',\n",
    "    'мінометів' : 'міномет', \n",
    "    'міномети' : 'міномет', \n",
    "    'мінометний' : 'міномет', \n",
    "    'бронемашин': 'бронемашина',\n",
    "    'бронемашину': 'бронемашина',\n",
    "    'бронемашині': 'бронемашина',\n",
    "    'бронемашиною': 'бронемашина',\n",
    "    'бронемашини': 'бронемашина',\n",
    "    'обстрілів': 'обстріл',\n",
    "    'обстрілу': 'обстріл',\n",
    "    'обстріли': 'обстріл',\n",
    "    'обстрілами': 'обстріл',\n",
    "    'політв\\'язнів': 'політв\\'язень',\n",
    "    'політв\\'язня': 'політв\\'язень',\n",
    "    'політв\\'язню': 'політв\\'язень',\n",
    "    'політв\\'язні': 'політв\\'язень',\n",
    "    'політв\\'язнями': 'політв\\'язень',\n",
    "    'політв\\'язнем': 'політв\\'язень',\n",
    "    'зарубав': 'зарубати',\n",
    "    'зарубала': 'зарубати',\n",
    "    'зарубили': 'зарубити',\n",
    "    'зарублений': 'зарубати',\n",
    "    'зарублениа': 'зарубати'\n",
    "})"
   ]
  },
  {
   "cell_type": "code",
   "execution_count": null,
   "metadata": {},
   "outputs": [],
   "source": [
    "# lemmatize\n",
    "df.video_title = (df.video_title\n",
    "                  .str.split()\n",
    "                  .apply(lambda s: [lemmatiz_dict.get(w, w) for w in s])\n",
    "                 )"
   ]
  },
  {
   "cell_type": "code",
   "execution_count": null,
   "metadata": {},
   "outputs": [],
   "source": [
    "# delete numbers and stop words\n",
    "\n",
    "with open('dictionaries/ukrainian-stopwords.txt') as f:\n",
    "    ukr_stopwords = f.read().split(sep='\\n')\n",
    "    ukr_stopwords += ['із','а', 'який','аби','й','щодо','біля', 'го', 'ій', 'о', 'тсн']\n",
    "\n",
    "df.video_title = df.video_title.apply(\n",
    "    lambda s: ' '.join(filter(\n",
    "        lambda w: (not w.isdigit()) and (not w in ukr_stopwords),\n",
    "        s\n",
    "    ))\n",
    ").str.replace(' +', ' ').str.strip()"
   ]
  },
  {
   "cell_type": "code",
   "execution_count": null,
   "metadata": {},
   "outputs": [],
   "source": [
    "df.head(2)"
   ]
  },
  {
   "cell_type": "markdown",
   "metadata": {},
   "source": [
    "### Tone words"
   ]
  },
  {
   "cell_type": "code",
   "execution_count": null,
   "metadata": {},
   "outputs": [],
   "source": [
    "# split by word \n",
    "\n",
    "df['video_title'] = df['video_title'].str.split()"
   ]
  },
  {
   "cell_type": "code",
   "execution_count": 27,
   "metadata": {},
   "outputs": [
    {
     "data": {
      "text/html": [
       "<div>\n",
       "<style scoped>\n",
       "    .dataframe tbody tr th:only-of-type {\n",
       "        vertical-align: middle;\n",
       "    }\n",
       "\n",
       "    .dataframe tbody tr th {\n",
       "        vertical-align: top;\n",
       "    }\n",
       "\n",
       "    .dataframe thead th {\n",
       "        text-align: right;\n",
       "    }\n",
       "</style>\n",
       "<table border=\"1\" class=\"dataframe\">\n",
       "  <thead>\n",
       "    <tr style=\"text-align: right;\">\n",
       "      <th></th>\n",
       "      <th>word</th>\n",
       "      <th>tone</th>\n",
       "    </tr>\n",
       "  </thead>\n",
       "  <tbody>\n",
       "    <tr>\n",
       "      <td>0</td>\n",
       "      <td>Всевишній</td>\n",
       "      <td>1</td>\n",
       "    </tr>\n",
       "    <tr>\n",
       "      <td>1</td>\n",
       "      <td>Господь</td>\n",
       "      <td>1</td>\n",
       "    </tr>\n",
       "    <tr>\n",
       "      <td>2</td>\n",
       "      <td>Христовий</td>\n",
       "      <td>1</td>\n",
       "    </tr>\n",
       "    <tr>\n",
       "      <td>3</td>\n",
       "      <td>аборт</td>\n",
       "      <td>-1</td>\n",
       "    </tr>\n",
       "    <tr>\n",
       "      <td>4</td>\n",
       "      <td>абсурд</td>\n",
       "      <td>-1</td>\n",
       "    </tr>\n",
       "  </tbody>\n",
       "</table>\n",
       "</div>"
      ],
      "text/plain": [
       "        word  tone\n",
       "0  Всевишній     1\n",
       "1    Господь     1\n",
       "2  Христовий     1\n",
       "3      аборт    -1\n",
       "4     абсурд    -1"
      ]
     },
     "execution_count": 27,
     "metadata": {},
     "output_type": "execute_result"
    }
   ],
   "source": [
    "# get the tone_dict\n",
    "\n",
    "tone_dict = pd.read_csv('dictionaries/tone-dict-uk.tsv', sep='\\t', names=['word', 'tone'])\n",
    "tone_dict.head(5)"
   ]
  },
  {
   "cell_type": "code",
   "execution_count": 28,
   "metadata": {},
   "outputs": [],
   "source": [
    "# Change tone indexes\n",
    "\n",
    "tone_dict.word = tone_dict.word.str.lower()\n",
    "tone_dict.tone = (tone_dict.tone > 0).astype(int)\n",
    "tone_dict.loc[tone_dict.tone == 0, 'tone'] = -1"
   ]
  },
  {
   "cell_type": "code",
   "execution_count": 29,
   "metadata": {
    "code_folding": [
     4
    ]
   },
   "outputs": [],
   "source": [
    "tone_dict = dict(tone_dict.values)\n",
    "\n",
    "# add more words\n",
    "\n",
    "tone_dict.update({\n",
    "    'тортури': -1,\n",
    "    'збити': -1,\n",
    "    'підозрюваний': -1, \n",
    "    'замінування': -1,\n",
    "    'полонений': -1,\n",
    "    'полонена': -1,\n",
    "    'пожежа'\n",
    "    'дтп': -1,\n",
    "    'врятувати': 1,\n",
    "    'фронт': -1,\n",
    "    'поранення': -1, \n",
    "    'поранені': -1,\n",
    "    'бойовик': -1,\n",
    "    'вибухнути': -1,\n",
    "    'рятувальник': -1,\n",
    "    'рятувальники': -1,\n",
    "    'фестиваль': 1,\n",
    "    'поранений': -1,\n",
    "    'поранена': -1,\n",
    "    'викрасти': -1,\n",
    "    'стрілянина': -1,\n",
    "    'згоріти': -1,\n",
    "    'політв\\'язень': -1,\n",
    "    'теракти': -1,\n",
    "    'розгін': -1,\n",
    "    'дтп': -1,\n",
    "    'п\\'яний': -1,\n",
    "    'п\\'яна': -1,\n",
    "    'розстріляти' : -1,\n",
    "    'вистрелив': -1,\n",
    "    'вистрелила': -1,\n",
    "    'крадений': -1,\n",
    "    'обвалився': -1,\n",
    "    'обвалилася': -1,\n",
    "    'затопити': -1,\n",
    "    'заблоковані': -1,\n",
    "    'затримання' : -1,\n",
    "    'загорітися': -1,\n",
    "    'бездіяльності' : -1,\n",
    "    'бездіяльність' : -1,\n",
    "    'осліпла' : -1,\n",
    "    'осліп': -1,\n",
    "    'небезпека': -1,\n",
    "    'нелегально': -1,\n",
    "    'заарештувати': -1,\n",
    "    'гармата': -1,\n",
    "    'міномет' : -1, \n",
    "    'бронемашина': -1,\n",
    "    'погроза': -1,\n",
    "    'обстріл' : -1,\n",
    "    'вчаділи': -1,\n",
    "    'політв\\'язень': -1,\n",
    "    'зарубати' : -1,\n",
    "    'повісити': -1,\n",
    "    'син': 1,\n",
    "    'кораблетрощі': -1\n",
    "})"
   ]
  },
  {
   "cell_type": "code",
   "execution_count": null,
   "metadata": {},
   "outputs": [],
   "source": [
    "# variable with words from tone_dict\n",
    "df['tone_words'] =  df.video_title.apply(\n",
    "    lambda s: list(filter(\n",
    "        lambda w: w in tone_dict,\n",
    "        s\n",
    "    ))\n",
    ")"
   ]
  },
  {
   "cell_type": "code",
   "execution_count": null,
   "metadata": {},
   "outputs": [],
   "source": [
    "print(f'Number of rows with tone is {(df.tone_words.apply(len) > 0).value_counts()[True]}, '\n",
    "      f'without tone is {df.tone_words.apply(len).value_counts()[0]}'\n",
    "     )"
   ]
  },
  {
   "cell_type": "code",
   "execution_count": null,
   "metadata": {},
   "outputs": [],
   "source": [
    "df['negative_tone'] = df.tone_words.apply(\n",
    "    lambda s: any(tone_dict[w] == -1 for w in s)\n",
    ")"
   ]
  },
  {
   "cell_type": "code",
   "execution_count": 8,
   "metadata": {},
   "outputs": [],
   "source": [
    "# fix error \n",
    "\n",
    "df.loc[df.program_name.str.match('ТСН.Тиждень з 22 вересня 2019 року'), 'program_name'] = 'ТСН.Тиждень'\n",
    "df.loc[df.video_link.str.match('.+list=PL1neMztLSbMNg1b78ylPRbaU8PVSpWZoQ\\&'), 'date'] = '22 вересня 2019'"
   ]
  },
  {
   "cell_type": "code",
   "execution_count": null,
   "metadata": {},
   "outputs": [],
   "source": [
    "with Pool(12) as p:\n",
    "    df.date = p.map(dtparse, df.date.str.replace(' року$', '').values)"
   ]
  },
  {
   "cell_type": "code",
   "execution_count": null,
   "metadata": {},
   "outputs": [],
   "source": [
    "df = df.loc[\n",
    "    (df.date > '2018-12-31') &\n",
    "    (df.date < '2019-10-01')\n",
    "].copy().reset_index(drop=True)"
   ]
  },
  {
   "cell_type": "code",
   "execution_count": null,
   "metadata": {},
   "outputs": [],
   "source": [
    "# df.to_json('processed_data.jl.gz', orient='records', lines=True, compression='gzip', force_ascii=False)"
   ]
  },
  {
   "cell_type": "markdown",
   "metadata": {},
   "source": [
    "## Look at basic things"
   ]
  },
  {
   "cell_type": "code",
   "execution_count": 18,
   "metadata": {},
   "outputs": [],
   "source": [
    "df_total = pd.read_json('data/processed_data.jl.gz', lines=True)"
   ]
  },
  {
   "cell_type": "code",
   "execution_count": 19,
   "metadata": {},
   "outputs": [],
   "source": [
    "boolvec = df_total['list_title'].str.contains('ТСН.19:30|ТСН.Тиждень', regex=True)\n",
    "df = df_total.loc[boolvec].copy().reset_index(drop=True)"
   ]
  },
  {
   "cell_type": "code",
   "execution_count": 20,
   "metadata": {},
   "outputs": [
    {
     "data": {
      "text/html": [
       "<div>\n",
       "<style scoped>\n",
       "    .dataframe tbody tr th:only-of-type {\n",
       "        vertical-align: middle;\n",
       "    }\n",
       "\n",
       "    .dataframe tbody tr th {\n",
       "        vertical-align: top;\n",
       "    }\n",
       "\n",
       "    .dataframe thead th {\n",
       "        text-align: right;\n",
       "    }\n",
       "</style>\n",
       "<table border=\"1\" class=\"dataframe\">\n",
       "  <thead>\n",
       "    <tr style=\"text-align: right;\">\n",
       "      <th></th>\n",
       "      <th>list_link</th>\n",
       "      <th>list_title</th>\n",
       "      <th>video_link</th>\n",
       "      <th>video_title</th>\n",
       "      <th>program_name</th>\n",
       "      <th>date</th>\n",
       "      <th>video_title_old</th>\n",
       "      <th>tone_words</th>\n",
       "      <th>negative_tone</th>\n",
       "      <th>negative_saldo</th>\n",
       "    </tr>\n",
       "  </thead>\n",
       "  <tbody>\n",
       "    <tr>\n",
       "      <td>0</td>\n",
       "      <td>https://www.youtube.com/watch?v=XzPMIJy2tUw&amp;li...</td>\n",
       "      <td>ТСН.19:30 за 30 вересня 2019 року</td>\n",
       "      <td>https://www.youtube.com/watch?v=XzPMIJy2tUw&amp;li...</td>\n",
       "      <td>[поліція, відкрити, кримінальний, справа, вбив...</td>\n",
       "      <td>ТСН.19:30</td>\n",
       "      <td>2019-09-30</td>\n",
       "      <td>Поліція відкрила дві кримінальні справи щодо в...</td>\n",
       "      <td>[кримінальний, вбивство]</td>\n",
       "      <td>True</td>\n",
       "      <td>True</td>\n",
       "    </tr>\n",
       "  </tbody>\n",
       "</table>\n",
       "</div>"
      ],
      "text/plain": [
       "                                           list_link  \\\n",
       "0  https://www.youtube.com/watch?v=XzPMIJy2tUw&li...   \n",
       "\n",
       "                          list_title  \\\n",
       "0  ТСН.19:30 за 30 вересня 2019 року   \n",
       "\n",
       "                                          video_link  \\\n",
       "0  https://www.youtube.com/watch?v=XzPMIJy2tUw&li...   \n",
       "\n",
       "                                         video_title program_name       date  \\\n",
       "0  [поліція, відкрити, кримінальний, справа, вбив...    ТСН.19:30 2019-09-30   \n",
       "\n",
       "                                     video_title_old  \\\n",
       "0  Поліція відкрила дві кримінальні справи щодо в...   \n",
       "\n",
       "                 tone_words  negative_tone  negative_saldo  \n",
       "0  [кримінальний, вбивство]           True            True  "
      ]
     },
     "execution_count": 20,
     "metadata": {},
     "output_type": "execute_result"
    }
   ],
   "source": [
    "df.head(1)"
   ]
  },
  {
   "cell_type": "code",
   "execution_count": 21,
   "metadata": {},
   "outputs": [
    {
     "data": {
      "text/plain": [
       "5862"
      ]
     },
     "execution_count": 21,
     "metadata": {},
     "output_type": "execute_result"
    }
   ],
   "source": [
    "# Кількість спостережень\n",
    "\n",
    "len(df)"
   ]
  },
  {
   "cell_type": "code",
   "execution_count": 22,
   "metadata": {},
   "outputs": [
    {
     "data": {
      "text/plain": [
       "41.7"
      ]
     },
     "execution_count": 22,
     "metadata": {},
     "output_type": "execute_result"
    }
   ],
   "source": [
    "# Відсоток емоційних заголовків\n",
    "\n",
    "round((sum(df.negative_tone) / len(df)) * 100, ndigits=1)"
   ]
  },
  {
   "cell_type": "code",
   "execution_count": 23,
   "metadata": {},
   "outputs": [
    {
     "data": {
      "text/plain": [
       "42.4"
      ]
     },
     "execution_count": 23,
     "metadata": {},
     "output_type": "execute_result"
    }
   ],
   "source": [
    "# Відсоток емоційних заголовків (січень-червень)\n",
    "\n",
    "round((sum(df[df['date'] < '2019-07-01'].negative_tone) / len(df[df['date'] < '2019-07-01'])) * 100,ndigits=1)"
   ]
  },
  {
   "cell_type": "markdown",
   "metadata": {},
   "source": [
    "## The most popular words (total and from tone dictionary)"
   ]
  },
  {
   "cell_type": "markdown",
   "metadata": {},
   "source": [
    "### Total the most popular words"
   ]
  },
  {
   "cell_type": "code",
   "execution_count": 24,
   "metadata": {},
   "outputs": [
    {
     "name": "stdout",
     "output_type": "stream",
     "text": [
      "Total words 42778\n"
     ]
    },
    {
     "data": {
      "text/plain": [
       "[('україна', 470),\n",
       " ('київ', 310),\n",
       " ('український', 303),\n",
       " ('річний', 278),\n",
       " ('загинути', 200),\n",
       " ('президент', 181),\n",
       " ('новий', 179),\n",
       " ('свій', 177),\n",
       " ('чоловік', 172),\n",
       " ('зеленський', 170)]"
      ]
     },
     "execution_count": 24,
     "metadata": {},
     "output_type": "execute_result"
    }
   ],
   "source": [
    "common_all = Counter(chain(*df.video_title))\n",
    "print('Total words', sum(common_all.values()))\n",
    "common_all.most_common(10)"
   ]
  },
  {
   "cell_type": "code",
   "execution_count": 25,
   "metadata": {},
   "outputs": [
    {
     "data": {
      "text/plain": [
       "(69, 155)"
      ]
     },
     "execution_count": 25,
     "metadata": {},
     "output_type": "execute_result"
    }
   ],
   "source": [
    "common_all['порошенко'], Counter(chain(*df_total.video_title))['порошенко']"
   ]
  },
  {
   "cell_type": "markdown",
   "metadata": {},
   "source": [
    "### The most popular negative tone words"
   ]
  },
  {
   "cell_type": "code",
   "execution_count": 30,
   "metadata": {},
   "outputs": [],
   "source": [
    "df['tone_words_neg'] = df.tone_words.apply(\n",
    "    lambda s: list(filter(\n",
    "        lambda w: tone_dict[w] < 0,\n",
    "        s\n",
    "    ))\n",
    ")"
   ]
  },
  {
   "cell_type": "code",
   "execution_count": 31,
   "metadata": {},
   "outputs": [
    {
     "data": {
      "text/plain": [
       "[('загинути', 200),\n",
       " ('затримати', 85),\n",
       " ('бойовик', 66),\n",
       " ('дтп', 61),\n",
       " ('вбивство', 60),\n",
       " ('смерть', 57),\n",
       " ('вимагати', 53),\n",
       " ('вибух', 51),\n",
       " ('померти', 50),\n",
       " ('жертва', 46)]"
      ]
     },
     "execution_count": 31,
     "metadata": {},
     "output_type": "execute_result"
    }
   ],
   "source": [
    "neg_counter = Counter(chain(*df.tone_words_neg))\n",
    "neg_counter.most_common(10)"
   ]
  },
  {
   "cell_type": "markdown",
   "metadata": {},
   "source": [
    "## Time of program"
   ]
  },
  {
   "cell_type": "code",
   "execution_count": 32,
   "metadata": {},
   "outputs": [],
   "source": [
    "df['video_number'] = df.video_link.str.extract('\\&index=(\\d{1,3})', expand=False).astype(int)"
   ]
  },
  {
   "cell_type": "code",
   "execution_count": 33,
   "metadata": {},
   "outputs": [],
   "source": [
    "def check_video_num(d):\n",
    "    d['video_number'] = d.sort_values('video_number').reset_index().index + 1\n",
    "    d.loc[d.video_number < 4, 'first_last_three'] = 'first'\n",
    "    d.loc[d.video_number > len(d) - 3, 'first_last_three'] = 'last'\n",
    "    d.first_last_three = d.first_last_three.fillna('middle')\n",
    "    d['first_half'] = d.video_number < len(d)/2\n",
    "    return d"
   ]
  },
  {
   "cell_type": "code",
   "execution_count": 34,
   "metadata": {},
   "outputs": [],
   "source": [
    "df = df.groupby('date').apply(check_video_num)"
   ]
  },
  {
   "cell_type": "code",
   "execution_count": 35,
   "metadata": {},
   "outputs": [
    {
     "data": {
      "text/html": [
       "<style  type=\"text/css\" >\n",
       "</style><table id=\"T_07d3f666_fbd1_11e9_a1b3_e0accb9a4a10\" ><thead>    <tr>        <th class=\"blank level0\" ></th>        <th class=\"col_heading level0 col0\" >negative_tone</th>        <th class=\"col_heading level0 col1\" >total</th>        <th class=\"col_heading level0 col2\" >percent_negative</th>    </tr>    <tr>        <th class=\"index_name level0\" >first_last_three</th>        <th class=\"blank\" ></th>        <th class=\"blank\" ></th>        <th class=\"blank\" ></th>    </tr></thead><tbody>\n",
       "                <tr>\n",
       "                        <th id=\"T_07d3f666_fbd1_11e9_a1b3_e0accb9a4a10level0_row0\" class=\"row_heading level0 row0\" >first</th>\n",
       "                        <td id=\"T_07d3f666_fbd1_11e9_a1b3_e0accb9a4a10row0_col0\" class=\"data row0 col0\" >475</td>\n",
       "                        <td id=\"T_07d3f666_fbd1_11e9_a1b3_e0accb9a4a10row0_col1\" class=\"data row0 col1\" >807</td>\n",
       "                        <td id=\"T_07d3f666_fbd1_11e9_a1b3_e0accb9a4a10row0_col2\" class=\"data row0 col2\" >58.9%</td>\n",
       "            </tr>\n",
       "            <tr>\n",
       "                        <th id=\"T_07d3f666_fbd1_11e9_a1b3_e0accb9a4a10level0_row1\" class=\"row_heading level0 row1\" >last</th>\n",
       "                        <td id=\"T_07d3f666_fbd1_11e9_a1b3_e0accb9a4a10row1_col0\" class=\"data row1 col0\" >184</td>\n",
       "                        <td id=\"T_07d3f666_fbd1_11e9_a1b3_e0accb9a4a10row1_col1\" class=\"data row1 col1\" >807</td>\n",
       "                        <td id=\"T_07d3f666_fbd1_11e9_a1b3_e0accb9a4a10row1_col2\" class=\"data row1 col2\" >22.8%</td>\n",
       "            </tr>\n",
       "            <tr>\n",
       "                        <th id=\"T_07d3f666_fbd1_11e9_a1b3_e0accb9a4a10level0_row2\" class=\"row_heading level0 row2\" >middle</th>\n",
       "                        <td id=\"T_07d3f666_fbd1_11e9_a1b3_e0accb9a4a10row2_col0\" class=\"data row2 col0\" >1786</td>\n",
       "                        <td id=\"T_07d3f666_fbd1_11e9_a1b3_e0accb9a4a10row2_col1\" class=\"data row2 col1\" >4248</td>\n",
       "                        <td id=\"T_07d3f666_fbd1_11e9_a1b3_e0accb9a4a10row2_col2\" class=\"data row2 col2\" >42.0%</td>\n",
       "            </tr>\n",
       "    </tbody></table>"
      ],
      "text/plain": [
       "<pandas.io.formats.style.Styler at 0x11b9f5410>"
      ]
     },
     "execution_count": 35,
     "metadata": {},
     "output_type": "execute_result"
    }
   ],
   "source": [
    "pivot_num_video3 = df.pivot_table(index='first_last_three', values='negative_tone', aggfunc='sum')\n",
    "\n",
    "# new variable with %\n",
    "pivot_num_video3['total'] = pd.Series.value_counts(df['first_last_three'])\n",
    "pivot_num_video3['percent_negative'] = round(\n",
    "    pivot_num_video3['negative_tone']/pivot_num_video3['total']*100, \n",
    "    ndigits=1)\n",
    "\n",
    "# format df\n",
    "pivot_num_video3 = pivot_num_video3.style.format({'percent_negative':'{:.1f}%'})\n",
    "\n",
    "pivot_num_video3"
   ]
  },
  {
   "cell_type": "markdown",
   "metadata": {},
   "source": [
    "### Emotions of first and last 50% of program"
   ]
  },
  {
   "cell_type": "code",
   "execution_count": 36,
   "metadata": {},
   "outputs": [
    {
     "data": {
      "text/html": [
       "<style  type=\"text/css\" >\n",
       "</style><table id=\"T_0a630124_fbd1_11e9_a1b3_e0accb9a4a10\" ><thead>    <tr>        <th class=\"blank level0\" ></th>        <th class=\"col_heading level0 col0\" >negative_tone</th>        <th class=\"col_heading level0 col1\" >percent_negative</th>    </tr>    <tr>        <th class=\"index_name level0\" >first_half</th>        <th class=\"blank\" ></th>        <th class=\"blank\" ></th>    </tr></thead><tbody>\n",
       "                <tr>\n",
       "                        <th id=\"T_0a630124_fbd1_11e9_a1b3_e0accb9a4a10level0_row0\" class=\"row_heading level0 row0\" >False</th>\n",
       "                        <td id=\"T_0a630124_fbd1_11e9_a1b3_e0accb9a4a10row0_col0\" class=\"data row0 col0\" >1055</td>\n",
       "                        <td id=\"T_0a630124_fbd1_11e9_a1b3_e0accb9a4a10row0_col1\" class=\"data row0 col1\" >33.7%</td>\n",
       "            </tr>\n",
       "            <tr>\n",
       "                        <th id=\"T_0a630124_fbd1_11e9_a1b3_e0accb9a4a10level0_row1\" class=\"row_heading level0 row1\" >True</th>\n",
       "                        <td id=\"T_0a630124_fbd1_11e9_a1b3_e0accb9a4a10row1_col0\" class=\"data row1 col0\" >1390</td>\n",
       "                        <td id=\"T_0a630124_fbd1_11e9_a1b3_e0accb9a4a10row1_col1\" class=\"data row1 col1\" >51.0%</td>\n",
       "            </tr>\n",
       "    </tbody></table>"
      ],
      "text/plain": [
       "<pandas.io.formats.style.Styler at 0x11ba24d50>"
      ]
     },
     "execution_count": 36,
     "metadata": {},
     "output_type": "execute_result"
    }
   ],
   "source": [
    "pivot_num_video = df.pivot_table(index='first_half', values='negative_tone', aggfunc='sum')\n",
    "\n",
    "pivot_num_video['percent_negative'] = round(pivot_num_video['negative_tone'] / \n",
    "                                            pd.Series.value_counts(df['first_half'])\n",
    "                                            * 100, ndigits=1)\n",
    "\n",
    "pivot_num_video = pivot_num_video.style.format({'percent_negative':'{:.1f}%'})\n",
    "\n",
    "pivot_num_video"
   ]
  },
  {
   "cell_type": "markdown",
   "metadata": {},
   "source": [
    "## Zelenskyi VS Poroshenko"
   ]
  },
  {
   "cell_type": "markdown",
   "metadata": {},
   "source": [
    "### Total number of president's last name each month"
   ]
  },
  {
   "cell_type": "code",
   "execution_count": 37,
   "metadata": {},
   "outputs": [],
   "source": [
    "df.video_title = df.video_title.apply(lambda s: ' '.join(s))"
   ]
  },
  {
   "cell_type": "code",
   "execution_count": 38,
   "metadata": {
    "scrolled": true
   },
   "outputs": [],
   "source": [
    "df['Poroh'] = False\n",
    "df['Ze'] = False\n",
    "\n",
    "df.loc[df.video_title.str.contains('порошенко'), 'Poroh'] = True\n",
    "df.loc[df.video_title.str.contains('зеленський'), 'Ze'] = True"
   ]
  },
  {
   "cell_type": "code",
   "execution_count": 39,
   "metadata": {},
   "outputs": [],
   "source": [
    "df['month'] = df.date.dt.month\n",
    "\n",
    "pivot_num_video = df.pivot_table(index='month', values='Ze', aggfunc='sum')\n",
    "pivot_num_video['Poroh'] = df.pivot_table(index='month', values='Poroh', aggfunc='sum')"
   ]
  },
  {
   "cell_type": "code",
   "execution_count": 40,
   "metadata": {},
   "outputs": [
    {
     "data": {
      "text/plain": [
       "<matplotlib.axes._subplots.AxesSubplot at 0x11b63c4d0>"
      ]
     },
     "execution_count": 40,
     "metadata": {},
     "output_type": "execute_result"
    },
    {
     "data": {
      "image/png": "[encoded data removed]",
      "text/plain": [
       "<Figure size 432x288 with 1 Axes>"
      ]
     },
     "metadata": {
      "needs_background": "light"
     },
     "output_type": "display_data"
    }
   ],
   "source": [
    "pivot_num_video[['Ze', 'Poroh']].plot()"
   ]
  },
  {
   "cell_type": "markdown",
   "metadata": {},
   "source": [
    "### Negative number"
   ]
  },
  {
   "cell_type": "code",
   "execution_count": 41,
   "metadata": {},
   "outputs": [],
   "source": [
    "df['Ze_neg'] = df.Ze & df.negative_tone\n",
    "df['Poroh_neg'] = df.Poroh & df.negative_tone"
   ]
  },
  {
   "cell_type": "code",
   "execution_count": 42,
   "metadata": {},
   "outputs": [
    {
     "name": "stdout",
     "output_type": "stream",
     "text": [
      "В 36.6% випадках Порошенка згадували разом зі словами, що викликають негативні емоції\n",
      "Прізвище Зеленського стояло поруч із негативними словами лише в 20.0% разів\n"
     ]
    }
   ],
   "source": [
    "print('В ' + \\\n",
    "      str(round(df.Poroh_neg.sum()/df.Poroh.sum() * 100, ndigits=1)) + \\\n",
    "      '% випадках Порошенка згадували разом зі словами, що викликають негативні емоції' + \\\n",
    "      '\\nПрізвище Зеленського стояло поруч із негативними словами лише в ' + \\\n",
    "      str(round(df.Ze_neg.sum()/df.Ze.sum() * 100, ndigits=1)) + '% разів')"
   ]
  },
  {
   "cell_type": "markdown",
   "metadata": {},
   "source": [
    "## Negative dynamics"
   ]
  },
  {
   "cell_type": "markdown",
   "metadata": {},
   "source": [
    "### By month"
   ]
  },
  {
   "cell_type": "code",
   "execution_count": 43,
   "metadata": {},
   "outputs": [
    {
     "data": {
      "text/plain": [
       "<matplotlib.axes._subplots.AxesSubplot at 0x11bb75c10>"
      ]
     },
     "execution_count": 43,
     "metadata": {},
     "output_type": "execute_result"
    },
    {
     "data": {
      "image/png": "[encoded data removed]",
      "text/plain": [
       "<Figure size 432x288 with 1 Axes>"
      ]
     },
     "metadata": {
      "needs_background": "light"
     },
     "output_type": "display_data"
    }
   ],
   "source": [
    "(df.groupby(df.date.dt.month).negative_tone\n",
    " .value_counts(normalize=True)\n",
    " .to_frame('neg')\n",
    " .reset_index('date') .loc[True]\n",
    " .reset_index(drop=True)\n",
    " .set_index('date')\n",
    ").plot(kind='line', ylim=[0.35, 0.55])"
   ]
  },
  {
   "cell_type": "markdown",
   "metadata": {},
   "source": [
    "### By week"
   ]
  },
  {
   "cell_type": "code",
   "execution_count": 44,
   "metadata": {},
   "outputs": [
    {
     "data": {
      "text/plain": [
       "<matplotlib.axes._subplots.AxesSubplot at 0x11bc09190>"
      ]
     },
     "execution_count": 44,
     "metadata": {},
     "output_type": "execute_result"
    },
    {
     "data": {
      "image/png": "[encoded data removed]",
      "text/plain": [
       "<Figure size 432x288 with 1 Axes>"
      ]
     },
     "metadata": {
      "needs_background": "light"
     },
     "output_type": "display_data"
    }
   ],
   "source": [
    "(df.groupby(df.date.dt.week).negative_tone\n",
    " .value_counts(normalize=True)\n",
    " .to_frame('neg')\n",
    " .reset_index('date') .loc[True]\n",
    " .reset_index(drop=True)\n",
    " .set_index('date')\n",
    ").plot(kind='line', ylim=[0.2, 0.6])"
   ]
  },
  {
   "cell_type": "markdown",
   "metadata": {},
   "source": [
    "### % of most popular negative 5 words among all titles"
   ]
  },
  {
   "cell_type": "code",
   "execution_count": 45,
   "metadata": {},
   "outputs": [],
   "source": [
    "popular = ['загинути', 'затримати', 'дтп', 'поранення', 'фронт']"
   ]
  },
  {
   "cell_type": "code",
   "execution_count": 46,
   "metadata": {},
   "outputs": [
    {
     "data": {
      "text/plain": [
       "False    0.933982\n",
       "True     0.066018\n",
       "Name: video_title, dtype: float64"
      ]
     },
     "execution_count": 46,
     "metadata": {},
     "output_type": "execute_result"
    }
   ],
   "source": [
    "df.video_title.str.contains('|'.join(popular)).value_counts(normalize=True)"
   ]
  },
  {
   "cell_type": "markdown",
   "metadata": {},
   "source": [
    "## 'загинути' dynamics"
   ]
  },
  {
   "cell_type": "code",
   "execution_count": 47,
   "metadata": {},
   "outputs": [
    {
     "data": {
      "text/plain": [
       "<matplotlib.axes._subplots.AxesSubplot at 0x11bc68b50>"
      ]
     },
     "execution_count": 47,
     "metadata": {},
     "output_type": "execute_result"
    },
    {
     "data": {
      "image/png": "[encoded data removed]",
      "text/plain": [
       "<Figure size 432x288 with 1 Axes>"
      ]
     },
     "metadata": {
      "needs_background": "light"
     },
     "output_type": "display_data"
    }
   ],
   "source": [
    "(df.groupby(df.date.dt.month)\n",
    " .apply(lambda d: d.video_title.str.contains('загинути').value_counts()[True])\n",
    " .reset_index()[0]\n",
    ").plot(ylim=(0,35))\n",
    "\n",
    "# source: https://novynarnia.com/2019/10/02/taymlayn-vtrat-ukrayinskoyi-armiyi-veresen-2019-infografika/\n",
    "pd.Series([3,8,8,15,9,8,14,8,13]).plot()"
   ]
  },
  {
   "cell_type": "code",
   "execution_count": null,
   "metadata": {},
   "outputs": [],
   "source": []
  },
  {
   "cell_type": "code",
   "execution_count": 48,
   "metadata": {},
   "outputs": [],
   "source": [
    "df.to_csv('data/tsn_ready.csv', index=False)"
   ]
  }
 ],
 "metadata": {
  "kernelspec": {
   "display_name": "Python 3",
   "language": "python",
   "name": "python3"
  },
  "language_info": {
   "codemirror_mode": {
    "name": "ipython",
    "version": 3
   },
   "file_extension": ".py",
   "mimetype": "text/x-python",
   "name": "python",
   "nbconvert_exporter": "python",
   "pygments_lexer": "ipython3",
   "version": "3.7.4"
  }
 },
 "nbformat": 4,
 "nbformat_minor": 2
}
