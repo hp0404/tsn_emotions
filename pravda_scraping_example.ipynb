{
 "cells": [
  {
   "cell_type": "code",
   "execution_count": 1,
   "metadata": {},
   "outputs": [],
   "source": [
    "import pandas as pd\n",
    "import pravda_scraping as ps"
   ]
  },
  {
   "cell_type": "markdown",
   "metadata": {},
   "source": [
    "Since `end_url` arg. haven't been provided, loop breaks at the last page available:"
   ]
  },
  {
   "cell_type": "code",
   "execution_count": 2,
   "metadata": {},
   "outputs": [
    {
     "name": "stdout",
     "output_type": "stream",
     "text": [
      "https://www.pravda.com.ua/archives/date_29122019/\n",
      "https://www.pravda.com.ua/archives/date_30122019/\n",
      "https://www.pravda.com.ua/archives/date_31122019/\n",
      "https://www.pravda.com.ua/archives/date_01012020/\n",
      "breaking...\n"
     ]
    },
    {
     "data": {
      "text/plain": [
       "4"
      ]
     },
     "execution_count": 2,
     "metadata": {},
     "output_type": "execute_result"
    }
   ],
   "source": [
    "data = ps.news_to_df(\n",
    "    start_url=\"https://www.pravda.com.ua/archives/date_29122019/\"\n",
    ")\n",
    "len(data)"
   ]
  },
  {
   "cell_type": "markdown",
   "metadata": {},
   "source": [
    "However, should you provide `end_url` arg., the script stops at the given page. \n",
    "Also, specifying `data` argument leads to object being modified inplace."
   ]
  },
  {
   "cell_type": "code",
   "execution_count": 4,
   "metadata": {},
   "outputs": [
    {
     "name": "stdout",
     "output_type": "stream",
     "text": [
      "https://www.pravda.com.ua/archives/date_25122019/\n",
      "https://www.pravda.com.ua/archives/date_26122019/\n",
      "breaking...\n"
     ]
    },
    {
     "data": {
      "text/plain": [
       "6"
      ]
     },
     "execution_count": 4,
     "metadata": {},
     "output_type": "execute_result"
    }
   ],
   "source": [
    "data2 = ps.news_to_df(\n",
    "    start_url=\"https://www.pravda.com.ua/archives/date_25122019/\",\n",
    "    end_url=\"https://www.pravda.com.ua/archives/date_27122019/\",\n",
    "    data=data # modifies original list - `data` - inplace\n",
    ")\n",
    "len(data2)"
   ]
  },
  {
   "cell_type": "markdown",
   "metadata": {},
   "source": [
    "Hence, now `data is data2`:"
   ]
  },
  {
   "cell_type": "code",
   "execution_count": 11,
   "metadata": {},
   "outputs": [],
   "source": [
    "assert data == data2, \"content is different\"\n",
    "assert len(data) == len(data2), \"lenth is different\""
   ]
  },
  {
   "cell_type": "markdown",
   "metadata": {},
   "source": [
    "---"
   ]
  },
  {
   "cell_type": "code",
   "execution_count": 6,
   "metadata": {},
   "outputs": [],
   "source": [
    "df = pd.concat(data2)"
   ]
  },
  {
   "cell_type": "code",
   "execution_count": 7,
   "metadata": {},
   "outputs": [
    {
     "data": {
      "text/html": [
       "<div>\n",
       "<style scoped>\n",
       "    .dataframe tbody tr th:only-of-type {\n",
       "        vertical-align: middle;\n",
       "    }\n",
       "\n",
       "    .dataframe tbody tr th {\n",
       "        vertical-align: top;\n",
       "    }\n",
       "\n",
       "    .dataframe thead th {\n",
       "        text-align: right;\n",
       "    }\n",
       "</style>\n",
       "<table border=\"1\" class=\"dataframe\">\n",
       "  <thead>\n",
       "    <tr style=\"text-align: right;\">\n",
       "      <th></th>\n",
       "      <th>title</th>\n",
       "      <th>subtitle</th>\n",
       "      <th>date</th>\n",
       "      <th>link</th>\n",
       "    </tr>\n",
       "  </thead>\n",
       "  <tbody>\n",
       "    <tr>\n",
       "      <td>0</td>\n",
       "      <td>У Польщі заявили, что \"атаки Путіна\" є спробою...</td>\n",
       "      <td>Атаки президента Росії Володимира Путіна на По...</td>\n",
       "      <td>2019/12/29 23:30</td>\n",
       "      <td>https://www.pravda.com.ua/news/2019/12/29/7236...</td>\n",
       "    </tr>\n",
       "    <tr>\n",
       "      <td>1</td>\n",
       "      <td>Президент: Без ексберкутівців ми б не отримали...</td>\n",
       "      <td>Передача представникам ОРДЛО 5 ексберкутівців,...</td>\n",
       "      <td>2019/12/29 22:19</td>\n",
       "      <td>https://www.pravda.com.ua/news/2019/12/29/7236...</td>\n",
       "    </tr>\n",
       "  </tbody>\n",
       "</table>\n",
       "</div>"
      ],
      "text/plain": [
       "                                               title  \\\n",
       "0  У Польщі заявили, что \"атаки Путіна\" є спробою...   \n",
       "1  Президент: Без ексберкутівців ми б не отримали...   \n",
       "\n",
       "                                            subtitle              date  \\\n",
       "0  Атаки президента Росії Володимира Путіна на По...  2019/12/29 23:30   \n",
       "1  Передача представникам ОРДЛО 5 ексберкутівців,...  2019/12/29 22:19   \n",
       "\n",
       "                                                link  \n",
       "0  https://www.pravda.com.ua/news/2019/12/29/7236...  \n",
       "1  https://www.pravda.com.ua/news/2019/12/29/7236...  "
      ]
     },
     "execution_count": 7,
     "metadata": {},
     "output_type": "execute_result"
    }
   ],
   "source": [
    "df.head(2)"
   ]
  },
  {
   "cell_type": "code",
   "execution_count": 8,
   "metadata": {},
   "outputs": [
    {
     "data": {
      "text/html": [
       "<div>\n",
       "<style scoped>\n",
       "    .dataframe tbody tr th:only-of-type {\n",
       "        vertical-align: middle;\n",
       "    }\n",
       "\n",
       "    .dataframe tbody tr th {\n",
       "        vertical-align: top;\n",
       "    }\n",
       "\n",
       "    .dataframe thead th {\n",
       "        text-align: right;\n",
       "    }\n",
       "</style>\n",
       "<table border=\"1\" class=\"dataframe\">\n",
       "  <thead>\n",
       "    <tr style=\"text-align: right;\">\n",
       "      <th></th>\n",
       "      <th>title</th>\n",
       "      <th>subtitle</th>\n",
       "      <th>date</th>\n",
       "      <th>link</th>\n",
       "    </tr>\n",
       "  </thead>\n",
       "  <tbody>\n",
       "    <tr>\n",
       "      <td>79</td>\n",
       "      <td>Затримали поліцейського Харківщини: зливав РФ ...</td>\n",
       "      <td>Слідчі Державного бюро розслідувань затримали ...</td>\n",
       "      <td>2019/12/26 00:43</td>\n",
       "      <td>https://www.pravda.com.ua/news/2019/12/26/7235...</td>\n",
       "    </tr>\n",
       "    <tr>\n",
       "      <td>80</td>\n",
       "      <td>Конфлікт у в/ч на Одещині: Побита жінка-військ...</td>\n",
       "      <td>Жінка-військовослужбовець Наталія Куліш, про п...</td>\n",
       "      <td>2019/12/26 00:09</td>\n",
       "      <td>https://www.pravda.com.ua/news/2019/12/26/7235...</td>\n",
       "    </tr>\n",
       "  </tbody>\n",
       "</table>\n",
       "</div>"
      ],
      "text/plain": [
       "                                                title  \\\n",
       "79  Затримали поліцейського Харківщини: зливав РФ ...   \n",
       "80  Конфлікт у в/ч на Одещині: Побита жінка-військ...   \n",
       "\n",
       "                                             subtitle              date  \\\n",
       "79  Слідчі Державного бюро розслідувань затримали ...  2019/12/26 00:43   \n",
       "80  Жінка-військовослужбовець Наталія Куліш, про п...  2019/12/26 00:09   \n",
       "\n",
       "                                                 link  \n",
       "79  https://www.pravda.com.ua/news/2019/12/26/7235...  \n",
       "80  https://www.pravda.com.ua/news/2019/12/26/7235...  "
      ]
     },
     "execution_count": 8,
     "metadata": {},
     "output_type": "execute_result"
    }
   ],
   "source": [
    "df.tail(2)"
   ]
  }
 ],
 "metadata": {
  "kernelspec": {
   "display_name": "Python 3",
   "language": "python",
   "name": "python3"
  },
  "language_info": {
   "codemirror_mode": {
    "name": "ipython",
    "version": 3
   },
   "file_extension": ".py",
   "mimetype": "text/x-python",
   "name": "python",
   "nbconvert_exporter": "python",
   "pygments_lexer": "ipython3",
   "version": "3.7.4"
  }
 },
 "nbformat": 4,
 "nbformat_minor": 4
}
